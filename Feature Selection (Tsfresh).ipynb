{
  "nbformat": 4,
  "nbformat_minor": 0,
  "metadata": {
    "kernelspec": {
      "display_name": "Python 3.8.5 64-bit ('tsfresh_env': conda)",
      "language": "python",
      "name": "python_defaultSpec_1601507548243"
    },
    "language_info": {
      "codemirror_mode": {
        "name": "ipython",
        "version": 3
      },
      "file_extension": ".py",
      "mimetype": "text/x-python",
      "name": "python",
      "nbconvert_exporter": "python",
      "pygments_lexer": "ipython3",
      "version": "3.8.5-final"
    },
    "colab": {
      "name": "(OCTOBER) TSFRESH FEATURE SELECTION.ipynb",
      "provenance": []
    }
  },
  "cells": [
    {
      "cell_type": "code",
      "metadata": {
        "id": "iDILbx2GZdW5"
      },
      "source": [
        "!pip install tsfresh\n",
        "!pip install catboost"
      ],
      "execution_count": null,
      "outputs": []
    },
    {
      "cell_type": "code",
      "metadata": {
        "id": "TUlV4DiMZYc0"
      },
      "source": [
        "%matplotlib inline\n",
        "import matplotlib.pylab as plt\n",
        "\n",
        "from tsfresh import extract_features, extract_relevant_features, select_features\n",
        "from tsfresh.utilities.dataframe_functions import impute\n",
        "\n",
        "from sklearn.tree import DecisionTreeClassifier\n",
        "from sklearn.model_selection import train_test_split\n",
        "from sklearn.metrics import classification_report\n",
        "\n",
        "import pandas as pd\n",
        "import numpy as np"
      ],
      "execution_count": 37,
      "outputs": []
    },
    {
      "cell_type": "markdown",
      "metadata": {
        "id": "8syDEcvAZYc1"
      },
      "source": [
        "## Load and visualize data"
      ]
    },
    {
      "cell_type": "code",
      "metadata": {
        "colab": {
          "base_uri": "https://localhost:8080/"
        },
        "id": "pSH6KLEdZYc1",
        "outputId": "45cabc2c-c112-4668-90a6-4fc07e05516e"
      },
      "source": [
        "# fetch dataset from uci\n",
        "from tsfresh.examples.har_dataset import download_har_dataset, load_har_dataset, load_har_classes\n",
        "import pandas as pd \n",
        "\n",
        "tsfresh = pd.read_csv('/content/tsfresh_multi.csv')\n",
        "catch = pd.read_csv('/content/catch_multi.csv')\n",
        "\n",
        "print('tsfresh multivariate dataset: ', tsfresh.shape)\n",
        "print('catch22 multivariate dataset: ', catch.shape)\n",
        "\n",
        "tsfresh_X = tsfresh.drop(['class'], axis = 1)\n",
        "catch_X = catch.drop(['class'], axis = 1)\n",
        "\n",
        "print('tsfresh multivariate dataset w/o class label: ', tsfresh_X.shape)\n",
        "print('catch22 multivariate dataset w/o class label: ', catch_X.shape)"
      ],
      "execution_count": 38,
      "outputs": [
        {
          "output_type": "stream",
          "name": "stdout",
          "text": [
            "tsfresh multivariate dataset:  (88, 4675)\n",
            "catch22 multivariate dataset:  (88, 133)\n",
            "tsfresh multivariate dataset w/o class label:  (88, 4674)\n",
            "catch22 multivariate dataset w/o class label:  (88, 132)\n"
          ]
        }
      ]
    },
    {
      "cell_type": "code",
      "metadata": {
        "colab": {
          "base_uri": "https://localhost:8080/"
        },
        "id": "-g8It2sHjUi9",
        "outputId": "ce2210f3-3234-4906-b891-3fdab6c0949e"
      },
      "source": [
        "df = pd.concat([tsfresh['class'],tsfresh_X, catch_X], axis = 1)\n",
        "print('combined multivariate dataset w/ class label: ', df.shape)"
      ],
      "execution_count": 39,
      "outputs": [
        {
          "output_type": "stream",
          "name": "stdout",
          "text": [
            "combined multivariate dataset w/ class label:  (88, 4807)\n"
          ]
        }
      ]
    },
    {
      "cell_type": "markdown",
      "metadata": {
        "id": "2cFm2mfnWZh9"
      },
      "source": [
        "## Drop features with Nan values"
      ]
    },
    {
      "cell_type": "code",
      "metadata": {
        "colab": {
          "base_uri": "https://localhost:8080/",
          "height": 160
        },
        "id": "a7CsIn7qkzou",
        "outputId": "51732337-7a88-4a13-b654-458895d42458"
      },
      "source": [
        "#drop rows with nan\n",
        "is_NaN = df.isnull()\n",
        "row_has_NaN = is_NaN.any(axis=1)\n",
        "rows_with_NaN = df[row_has_NaN]\n",
        "\n",
        "rows_with_NaN"
      ],
      "execution_count": 40,
      "outputs": [
        {
          "output_type": "execute_result",
          "data": {
            "text/html": [
              "<div>\n",
              "<style scoped>\n",
              "    .dataframe tbody tr th:only-of-type {\n",
              "        vertical-align: middle;\n",
              "    }\n",
              "\n",
              "    .dataframe tbody tr th {\n",
              "        vertical-align: top;\n",
              "    }\n",
              "\n",
              "    .dataframe thead th {\n",
              "        text-align: right;\n",
              "    }\n",
              "</style>\n",
              "<table border=\"1\" class=\"dataframe\">\n",
              "  <thead>\n",
              "    <tr style=\"text-align: right;\">\n",
              "      <th></th>\n",
              "      <th>class</th>\n",
              "      <th>var4__variance_larger_than_standard_deviation</th>\n",
              "      <th>var4__has_duplicate_max</th>\n",
              "      <th>var4__has_duplicate_min</th>\n",
              "      <th>var4__has_duplicate</th>\n",
              "      <th>var4__sum_values</th>\n",
              "      <th>var4__abs_energy</th>\n",
              "      <th>var4__mean_abs_change</th>\n",
              "      <th>var4__mean_change</th>\n",
              "      <th>var4__mean_second_derivative_central</th>\n",
              "      <th>var4__median</th>\n",
              "      <th>var4__mean</th>\n",
              "      <th>var4__length</th>\n",
              "      <th>var4__standard_deviation</th>\n",
              "      <th>var4__variation_coefficient</th>\n",
              "      <th>var4__variance</th>\n",
              "      <th>var4__skewness</th>\n",
              "      <th>var4__kurtosis</th>\n",
              "      <th>var4__absolute_sum_of_changes</th>\n",
              "      <th>var4__longest_strike_below_mean</th>\n",
              "      <th>var4__longest_strike_above_mean</th>\n",
              "      <th>var4__count_above_mean</th>\n",
              "      <th>var4__count_below_mean</th>\n",
              "      <th>var4__last_location_of_maximum</th>\n",
              "      <th>var4__first_location_of_maximum</th>\n",
              "      <th>var4__last_location_of_minimum</th>\n",
              "      <th>var4__first_location_of_minimum</th>\n",
              "      <th>var4__percentage_of_reoccurring_values_to_all_values</th>\n",
              "      <th>var4__percentage_of_reoccurring_datapoints_to_all_datapoints</th>\n",
              "      <th>var4__sum_of_reoccurring_values</th>\n",
              "      <th>var4__sum_of_reoccurring_data_points</th>\n",
              "      <th>var4__ratio_value_number_to_time_series_length</th>\n",
              "      <th>var4__sample_entropy</th>\n",
              "      <th>var4__maximum</th>\n",
              "      <th>var4__minimum</th>\n",
              "      <th>var4__benford_correlation</th>\n",
              "      <th>var4__time_reversal_asymmetry_statistic__lag_1</th>\n",
              "      <th>var4__time_reversal_asymmetry_statistic__lag_2</th>\n",
              "      <th>var4__time_reversal_asymmetry_statistic__lag_3</th>\n",
              "      <th>var4__c3__lag_1</th>\n",
              "      <th>...</th>\n",
              "      <th>CO_HistogramAMI_even_2_5_var5</th>\n",
              "      <th>CO_trev_1_num_var5</th>\n",
              "      <th>MD_hrv_classic_pnn40_var5</th>\n",
              "      <th>SB_BinaryStats_mean_longstretch1_var5</th>\n",
              "      <th>SB_TransitionMatrix_3ac_sumdiagcov_var5</th>\n",
              "      <th>PD_PeriodicityWang_th0_01_var5</th>\n",
              "      <th>CO_Embed2_Dist_tau_d_expfit_meandiff_var5</th>\n",
              "      <th>IN_AutoMutualInfoStats_40_gaussian_fmmi_var5</th>\n",
              "      <th>FC_LocalSimple_mean1_tauresrat_var5</th>\n",
              "      <th>DN_OutlierInclude_p_001_mdrmd_var5</th>\n",
              "      <th>DN_OutlierInclude_n_001_mdrmd_var5</th>\n",
              "      <th>SP_Summaries_welch_rect_area_5_1_var5</th>\n",
              "      <th>SB_BinaryStats_diff_longstretch0_var5</th>\n",
              "      <th>SB_MotifThree_quantile_hh_var5</th>\n",
              "      <th>SC_FluctAnal_2_rsrangefit_50_1_logi_prop_r1_var5</th>\n",
              "      <th>SC_FluctAnal_2_dfa_50_1_2_logi_prop_r1_var5</th>\n",
              "      <th>SP_Summaries_welch_rect_centroid_var5</th>\n",
              "      <th>FC_LocalSimple_mean3_stderr_var5</th>\n",
              "      <th>DN_HistogramMode_5_var6</th>\n",
              "      <th>DN_HistogramMode_10_var6</th>\n",
              "      <th>CO_f1ecac_var6</th>\n",
              "      <th>CO_FirstMin_ac_var6</th>\n",
              "      <th>CO_HistogramAMI_even_2_5_var6</th>\n",
              "      <th>CO_trev_1_num_var6</th>\n",
              "      <th>MD_hrv_classic_pnn40_var6</th>\n",
              "      <th>SB_BinaryStats_mean_longstretch1_var6</th>\n",
              "      <th>SB_TransitionMatrix_3ac_sumdiagcov_var6</th>\n",
              "      <th>PD_PeriodicityWang_th0_01_var6</th>\n",
              "      <th>CO_Embed2_Dist_tau_d_expfit_meandiff_var6</th>\n",
              "      <th>IN_AutoMutualInfoStats_40_gaussian_fmmi_var6</th>\n",
              "      <th>FC_LocalSimple_mean1_tauresrat_var6</th>\n",
              "      <th>DN_OutlierInclude_p_001_mdrmd_var6</th>\n",
              "      <th>DN_OutlierInclude_n_001_mdrmd_var6</th>\n",
              "      <th>SP_Summaries_welch_rect_area_5_1_var6</th>\n",
              "      <th>SB_BinaryStats_diff_longstretch0_var6</th>\n",
              "      <th>SB_MotifThree_quantile_hh_var6</th>\n",
              "      <th>SC_FluctAnal_2_rsrangefit_50_1_logi_prop_r1_var6</th>\n",
              "      <th>SC_FluctAnal_2_dfa_50_1_2_logi_prop_r1_var6</th>\n",
              "      <th>SP_Summaries_welch_rect_centroid_var6</th>\n",
              "      <th>FC_LocalSimple_mean3_stderr_var6</th>\n",
              "    </tr>\n",
              "  </thead>\n",
              "  <tbody>\n",
              "    <tr>\n",
              "      <th>38</th>\n",
              "      <td>3</td>\n",
              "      <td>0.0</td>\n",
              "      <td>1.0</td>\n",
              "      <td>1.0</td>\n",
              "      <td>1.0</td>\n",
              "      <td>-43.0</td>\n",
              "      <td>125.0</td>\n",
              "      <td>0.214286</td>\n",
              "      <td>0.071429</td>\n",
              "      <td>0.038462</td>\n",
              "      <td>-3.0</td>\n",
              "      <td>-2.866667</td>\n",
              "      <td>15.0</td>\n",
              "      <td>0.339935</td>\n",
              "      <td>-0.118582</td>\n",
              "      <td>0.115556</td>\n",
              "      <td>2.404763</td>\n",
              "      <td>4.349112</td>\n",
              "      <td>3.0</td>\n",
              "      <td>10.0</td>\n",
              "      <td>1.0</td>\n",
              "      <td>2.0</td>\n",
              "      <td>13.0</td>\n",
              "      <td>1.000000</td>\n",
              "      <td>0.200000</td>\n",
              "      <td>0.933333</td>\n",
              "      <td>0.0</td>\n",
              "      <td>1.0</td>\n",
              "      <td>1.0</td>\n",
              "      <td>-5.0</td>\n",
              "      <td>-43.0</td>\n",
              "      <td>0.133333</td>\n",
              "      <td>0.414434</td>\n",
              "      <td>-2.0</td>\n",
              "      <td>-3.0</td>\n",
              "      <td>0.109212</td>\n",
              "      <td>1.153846</td>\n",
              "      <td>0.000000</td>\n",
              "      <td>0.000000</td>\n",
              "      <td>-24.230769</td>\n",
              "      <td>...</td>\n",
              "      <td>0.19069</td>\n",
              "      <td>0.000000</td>\n",
              "      <td>0.571429</td>\n",
              "      <td>3.0</td>\n",
              "      <td>0.057823</td>\n",
              "      <td>3</td>\n",
              "      <td>0.438285</td>\n",
              "      <td>2.0</td>\n",
              "      <td>1.0</td>\n",
              "      <td>0.333333</td>\n",
              "      <td>-0.066667</td>\n",
              "      <td>8.217301e-34</td>\n",
              "      <td>2.0</td>\n",
              "      <td>1.272090</td>\n",
              "      <td>0.0</td>\n",
              "      <td>0.0</td>\n",
              "      <td>1.570796</td>\n",
              "      <td>1.217092</td>\n",
              "      <td>NaN</td>\n",
              "      <td>NaN</td>\n",
              "      <td>0</td>\n",
              "      <td>0</td>\n",
              "      <td>NaN</td>\n",
              "      <td>NaN</td>\n",
              "      <td>NaN</td>\n",
              "      <td>NaN</td>\n",
              "      <td>NaN</td>\n",
              "      <td>0</td>\n",
              "      <td>NaN</td>\n",
              "      <td>NaN</td>\n",
              "      <td>NaN</td>\n",
              "      <td>NaN</td>\n",
              "      <td>NaN</td>\n",
              "      <td>NaN</td>\n",
              "      <td>NaN</td>\n",
              "      <td>NaN</td>\n",
              "      <td>NaN</td>\n",
              "      <td>NaN</td>\n",
              "      <td>NaN</td>\n",
              "      <td>NaN</td>\n",
              "    </tr>\n",
              "    <tr>\n",
              "      <th>43</th>\n",
              "      <td>3</td>\n",
              "      <td>0.0</td>\n",
              "      <td>1.0</td>\n",
              "      <td>1.0</td>\n",
              "      <td>1.0</td>\n",
              "      <td>-38.0</td>\n",
              "      <td>100.0</td>\n",
              "      <td>0.571429</td>\n",
              "      <td>0.000000</td>\n",
              "      <td>-0.076923</td>\n",
              "      <td>-3.0</td>\n",
              "      <td>-2.533333</td>\n",
              "      <td>15.0</td>\n",
              "      <td>0.498888</td>\n",
              "      <td>-0.196929</td>\n",
              "      <td>0.248889</td>\n",
              "      <td>0.148961</td>\n",
              "      <td>-2.307692</td>\n",
              "      <td>8.0</td>\n",
              "      <td>4.0</td>\n",
              "      <td>3.0</td>\n",
              "      <td>7.0</td>\n",
              "      <td>8.0</td>\n",
              "      <td>0.933333</td>\n",
              "      <td>0.066667</td>\n",
              "      <td>1.000000</td>\n",
              "      <td>0.0</td>\n",
              "      <td>1.0</td>\n",
              "      <td>1.0</td>\n",
              "      <td>-5.0</td>\n",
              "      <td>-38.0</td>\n",
              "      <td>0.133333</td>\n",
              "      <td>1.280934</td>\n",
              "      <td>-2.0</td>\n",
              "      <td>-3.0</td>\n",
              "      <td>0.258588</td>\n",
              "      <td>0.000000</td>\n",
              "      <td>1.363636</td>\n",
              "      <td>0.555556</td>\n",
              "      <td>-15.846154</td>\n",
              "      <td>...</td>\n",
              "      <td>0.10919</td>\n",
              "      <td>1.822708</td>\n",
              "      <td>0.785714</td>\n",
              "      <td>3.0</td>\n",
              "      <td>0.068027</td>\n",
              "      <td>3</td>\n",
              "      <td>0.294895</td>\n",
              "      <td>1.0</td>\n",
              "      <td>1.0</td>\n",
              "      <td>-0.066667</td>\n",
              "      <td>0.200000</td>\n",
              "      <td>3.286920e-33</td>\n",
              "      <td>2.0</td>\n",
              "      <td>1.254042</td>\n",
              "      <td>0.0</td>\n",
              "      <td>0.0</td>\n",
              "      <td>2.356194</td>\n",
              "      <td>1.066744</td>\n",
              "      <td>NaN</td>\n",
              "      <td>NaN</td>\n",
              "      <td>0</td>\n",
              "      <td>0</td>\n",
              "      <td>NaN</td>\n",
              "      <td>NaN</td>\n",
              "      <td>NaN</td>\n",
              "      <td>NaN</td>\n",
              "      <td>NaN</td>\n",
              "      <td>0</td>\n",
              "      <td>NaN</td>\n",
              "      <td>NaN</td>\n",
              "      <td>NaN</td>\n",
              "      <td>NaN</td>\n",
              "      <td>NaN</td>\n",
              "      <td>NaN</td>\n",
              "      <td>NaN</td>\n",
              "      <td>NaN</td>\n",
              "      <td>NaN</td>\n",
              "      <td>NaN</td>\n",
              "      <td>NaN</td>\n",
              "      <td>NaN</td>\n",
              "    </tr>\n",
              "  </tbody>\n",
              "</table>\n",
              "<p>2 rows × 4807 columns</p>\n",
              "</div>"
            ],
            "text/plain": [
              "    class  ...  FC_LocalSimple_mean3_stderr_var6\n",
              "38      3  ...                               NaN\n",
              "43      3  ...                               NaN\n",
              "\n",
              "[2 rows x 4807 columns]"
            ]
          },
          "metadata": {},
          "execution_count": 40
        }
      ]
    },
    {
      "cell_type": "code",
      "metadata": {
        "id": "VOFV0eYBhaOj"
      },
      "source": [
        "df = df.drop([38, 43]).reset_index(drop = True)"
      ],
      "execution_count": 41,
      "outputs": []
    },
    {
      "cell_type": "code",
      "metadata": {
        "colab": {
          "base_uri": "https://localhost:8080/",
          "height": 270
        },
        "id": "dmu9uBP9gge4",
        "outputId": "b1b01766-0ea6-4c38-f987-e87af2f47042"
      },
      "source": [
        "print('combined multivariate dataset w/ class label (nan removed): ', df.shape)\n",
        "df.head()"
      ],
      "execution_count": 42,
      "outputs": [
        {
          "output_type": "stream",
          "name": "stdout",
          "text": [
            "combined multivariate dataset w/ class label (nan removed):  (86, 4807)\n"
          ]
        },
        {
          "output_type": "execute_result",
          "data": {
            "text/html": [
              "<div>\n",
              "<style scoped>\n",
              "    .dataframe tbody tr th:only-of-type {\n",
              "        vertical-align: middle;\n",
              "    }\n",
              "\n",
              "    .dataframe tbody tr th {\n",
              "        vertical-align: top;\n",
              "    }\n",
              "\n",
              "    .dataframe thead th {\n",
              "        text-align: right;\n",
              "    }\n",
              "</style>\n",
              "<table border=\"1\" class=\"dataframe\">\n",
              "  <thead>\n",
              "    <tr style=\"text-align: right;\">\n",
              "      <th></th>\n",
              "      <th>class</th>\n",
              "      <th>var4__variance_larger_than_standard_deviation</th>\n",
              "      <th>var4__has_duplicate_max</th>\n",
              "      <th>var4__has_duplicate_min</th>\n",
              "      <th>var4__has_duplicate</th>\n",
              "      <th>var4__sum_values</th>\n",
              "      <th>var4__abs_energy</th>\n",
              "      <th>var4__mean_abs_change</th>\n",
              "      <th>var4__mean_change</th>\n",
              "      <th>var4__mean_second_derivative_central</th>\n",
              "      <th>var4__median</th>\n",
              "      <th>var4__mean</th>\n",
              "      <th>var4__length</th>\n",
              "      <th>var4__standard_deviation</th>\n",
              "      <th>var4__variation_coefficient</th>\n",
              "      <th>var4__variance</th>\n",
              "      <th>var4__skewness</th>\n",
              "      <th>var4__kurtosis</th>\n",
              "      <th>var4__absolute_sum_of_changes</th>\n",
              "      <th>var4__longest_strike_below_mean</th>\n",
              "      <th>var4__longest_strike_above_mean</th>\n",
              "      <th>var4__count_above_mean</th>\n",
              "      <th>var4__count_below_mean</th>\n",
              "      <th>var4__last_location_of_maximum</th>\n",
              "      <th>var4__first_location_of_maximum</th>\n",
              "      <th>var4__last_location_of_minimum</th>\n",
              "      <th>var4__first_location_of_minimum</th>\n",
              "      <th>var4__percentage_of_reoccurring_values_to_all_values</th>\n",
              "      <th>var4__percentage_of_reoccurring_datapoints_to_all_datapoints</th>\n",
              "      <th>var4__sum_of_reoccurring_values</th>\n",
              "      <th>var4__sum_of_reoccurring_data_points</th>\n",
              "      <th>var4__ratio_value_number_to_time_series_length</th>\n",
              "      <th>var4__sample_entropy</th>\n",
              "      <th>var4__maximum</th>\n",
              "      <th>var4__minimum</th>\n",
              "      <th>var4__benford_correlation</th>\n",
              "      <th>var4__time_reversal_asymmetry_statistic__lag_1</th>\n",
              "      <th>var4__time_reversal_asymmetry_statistic__lag_2</th>\n",
              "      <th>var4__time_reversal_asymmetry_statistic__lag_3</th>\n",
              "      <th>var4__c3__lag_1</th>\n",
              "      <th>...</th>\n",
              "      <th>CO_HistogramAMI_even_2_5_var5</th>\n",
              "      <th>CO_trev_1_num_var5</th>\n",
              "      <th>MD_hrv_classic_pnn40_var5</th>\n",
              "      <th>SB_BinaryStats_mean_longstretch1_var5</th>\n",
              "      <th>SB_TransitionMatrix_3ac_sumdiagcov_var5</th>\n",
              "      <th>PD_PeriodicityWang_th0_01_var5</th>\n",
              "      <th>CO_Embed2_Dist_tau_d_expfit_meandiff_var5</th>\n",
              "      <th>IN_AutoMutualInfoStats_40_gaussian_fmmi_var5</th>\n",
              "      <th>FC_LocalSimple_mean1_tauresrat_var5</th>\n",
              "      <th>DN_OutlierInclude_p_001_mdrmd_var5</th>\n",
              "      <th>DN_OutlierInclude_n_001_mdrmd_var5</th>\n",
              "      <th>SP_Summaries_welch_rect_area_5_1_var5</th>\n",
              "      <th>SB_BinaryStats_diff_longstretch0_var5</th>\n",
              "      <th>SB_MotifThree_quantile_hh_var5</th>\n",
              "      <th>SC_FluctAnal_2_rsrangefit_50_1_logi_prop_r1_var5</th>\n",
              "      <th>SC_FluctAnal_2_dfa_50_1_2_logi_prop_r1_var5</th>\n",
              "      <th>SP_Summaries_welch_rect_centroid_var5</th>\n",
              "      <th>FC_LocalSimple_mean3_stderr_var5</th>\n",
              "      <th>DN_HistogramMode_5_var6</th>\n",
              "      <th>DN_HistogramMode_10_var6</th>\n",
              "      <th>CO_f1ecac_var6</th>\n",
              "      <th>CO_FirstMin_ac_var6</th>\n",
              "      <th>CO_HistogramAMI_even_2_5_var6</th>\n",
              "      <th>CO_trev_1_num_var6</th>\n",
              "      <th>MD_hrv_classic_pnn40_var6</th>\n",
              "      <th>SB_BinaryStats_mean_longstretch1_var6</th>\n",
              "      <th>SB_TransitionMatrix_3ac_sumdiagcov_var6</th>\n",
              "      <th>PD_PeriodicityWang_th0_01_var6</th>\n",
              "      <th>CO_Embed2_Dist_tau_d_expfit_meandiff_var6</th>\n",
              "      <th>IN_AutoMutualInfoStats_40_gaussian_fmmi_var6</th>\n",
              "      <th>FC_LocalSimple_mean1_tauresrat_var6</th>\n",
              "      <th>DN_OutlierInclude_p_001_mdrmd_var6</th>\n",
              "      <th>DN_OutlierInclude_n_001_mdrmd_var6</th>\n",
              "      <th>SP_Summaries_welch_rect_area_5_1_var6</th>\n",
              "      <th>SB_BinaryStats_diff_longstretch0_var6</th>\n",
              "      <th>SB_MotifThree_quantile_hh_var6</th>\n",
              "      <th>SC_FluctAnal_2_rsrangefit_50_1_logi_prop_r1_var6</th>\n",
              "      <th>SC_FluctAnal_2_dfa_50_1_2_logi_prop_r1_var6</th>\n",
              "      <th>SP_Summaries_welch_rect_centroid_var6</th>\n",
              "      <th>FC_LocalSimple_mean3_stderr_var6</th>\n",
              "    </tr>\n",
              "  </thead>\n",
              "  <tbody>\n",
              "    <tr>\n",
              "      <th>0</th>\n",
              "      <td>3</td>\n",
              "      <td>1.0</td>\n",
              "      <td>0.0</td>\n",
              "      <td>1.0</td>\n",
              "      <td>1.0</td>\n",
              "      <td>-60.0</td>\n",
              "      <td>344.0</td>\n",
              "      <td>3.214286</td>\n",
              "      <td>0.071429</td>\n",
              "      <td>-0.076923</td>\n",
              "      <td>-5.0</td>\n",
              "      <td>-4.000000</td>\n",
              "      <td>15.0</td>\n",
              "      <td>2.633122</td>\n",
              "      <td>-0.658281</td>\n",
              "      <td>6.933333</td>\n",
              "      <td>1.318885</td>\n",
              "      <td>1.790624</td>\n",
              "      <td>45.0</td>\n",
              "      <td>4.0</td>\n",
              "      <td>1.0</td>\n",
              "      <td>4.0</td>\n",
              "      <td>8.0</td>\n",
              "      <td>0.533333</td>\n",
              "      <td>0.466667</td>\n",
              "      <td>0.800000</td>\n",
              "      <td>0.666667</td>\n",
              "      <td>0.714286</td>\n",
              "      <td>0.866667</td>\n",
              "      <td>-23.0</td>\n",
              "      <td>-61.0</td>\n",
              "      <td>0.466667</td>\n",
              "      <td>1.609438</td>\n",
              "      <td>3.0</td>\n",
              "      <td>-7.0</td>\n",
              "      <td>0.100951</td>\n",
              "      <td>-14.076923</td>\n",
              "      <td>-38.545455</td>\n",
              "      <td>-31.888889</td>\n",
              "      <td>-61.076923</td>\n",
              "      <td>...</td>\n",
              "      <td>0.591103</td>\n",
              "      <td>0.977510</td>\n",
              "      <td>0.928571</td>\n",
              "      <td>3.0</td>\n",
              "      <td>0.015306</td>\n",
              "      <td>0</td>\n",
              "      <td>0.220609</td>\n",
              "      <td>2.0</td>\n",
              "      <td>1.0</td>\n",
              "      <td>-0.200000</td>\n",
              "      <td>0.333333</td>\n",
              "      <td>1.848893e-33</td>\n",
              "      <td>4.0</td>\n",
              "      <td>2.007556</td>\n",
              "      <td>0.0</td>\n",
              "      <td>0.0</td>\n",
              "      <td>1.570796</td>\n",
              "      <td>1.210107</td>\n",
              "      <td>0.364110</td>\n",
              "      <td>0.473342</td>\n",
              "      <td>1</td>\n",
              "      <td>1</td>\n",
              "      <td>0.000458</td>\n",
              "      <td>0.000000</td>\n",
              "      <td>0.571429</td>\n",
              "      <td>5.0</td>\n",
              "      <td>0.333333</td>\n",
              "      <td>0</td>\n",
              "      <td>0.359012</td>\n",
              "      <td>1.0</td>\n",
              "      <td>1.000000</td>\n",
              "      <td>0.066667</td>\n",
              "      <td>0.266667</td>\n",
              "      <td>4.622232e-34</td>\n",
              "      <td>2.0</td>\n",
              "      <td>0.000000</td>\n",
              "      <td>0.0</td>\n",
              "      <td>0.0</td>\n",
              "      <td>2.356194</td>\n",
              "      <td>1.259719</td>\n",
              "    </tr>\n",
              "    <tr>\n",
              "      <th>1</th>\n",
              "      <td>3</td>\n",
              "      <td>1.0</td>\n",
              "      <td>0.0</td>\n",
              "      <td>0.0</td>\n",
              "      <td>1.0</td>\n",
              "      <td>-105.0</td>\n",
              "      <td>849.0</td>\n",
              "      <td>4.071429</td>\n",
              "      <td>-0.357143</td>\n",
              "      <td>0.000000</td>\n",
              "      <td>-8.0</td>\n",
              "      <td>-7.000000</td>\n",
              "      <td>15.0</td>\n",
              "      <td>2.756810</td>\n",
              "      <td>-0.393830</td>\n",
              "      <td>7.600000</td>\n",
              "      <td>0.191535</td>\n",
              "      <td>-0.815896</td>\n",
              "      <td>57.0</td>\n",
              "      <td>2.0</td>\n",
              "      <td>2.0</td>\n",
              "      <td>6.0</td>\n",
              "      <td>8.0</td>\n",
              "      <td>0.533333</td>\n",
              "      <td>0.466667</td>\n",
              "      <td>0.333333</td>\n",
              "      <td>0.266667</td>\n",
              "      <td>0.333333</td>\n",
              "      <td>0.600000</td>\n",
              "      <td>-22.0</td>\n",
              "      <td>-67.0</td>\n",
              "      <td>0.600000</td>\n",
              "      <td>1.609438</td>\n",
              "      <td>-2.0</td>\n",
              "      <td>-12.0</td>\n",
              "      <td>-0.106245</td>\n",
              "      <td>-57.538462</td>\n",
              "      <td>-63.818182</td>\n",
              "      <td>-76.555556</td>\n",
              "      <td>-295.923077</td>\n",
              "      <td>...</td>\n",
              "      <td>0.558787</td>\n",
              "      <td>2.580870</td>\n",
              "      <td>0.857143</td>\n",
              "      <td>3.0</td>\n",
              "      <td>0.013605</td>\n",
              "      <td>0</td>\n",
              "      <td>0.136382</td>\n",
              "      <td>1.0</td>\n",
              "      <td>1.0</td>\n",
              "      <td>0.066667</td>\n",
              "      <td>0.333333</td>\n",
              "      <td>2.054325e-34</td>\n",
              "      <td>3.0</td>\n",
              "      <td>1.970181</td>\n",
              "      <td>0.0</td>\n",
              "      <td>0.0</td>\n",
              "      <td>2.356194</td>\n",
              "      <td>1.205188</td>\n",
              "      <td>0.208353</td>\n",
              "      <td>0.364617</td>\n",
              "      <td>2</td>\n",
              "      <td>4</td>\n",
              "      <td>0.142884</td>\n",
              "      <td>-0.272554</td>\n",
              "      <td>0.357143</td>\n",
              "      <td>8.0</td>\n",
              "      <td>0.333333</td>\n",
              "      <td>0</td>\n",
              "      <td>0.361340</td>\n",
              "      <td>2.0</td>\n",
              "      <td>0.333333</td>\n",
              "      <td>0.133333</td>\n",
              "      <td>0.800000</td>\n",
              "      <td>8.217301e-34</td>\n",
              "      <td>2.0</td>\n",
              "      <td>0.754997</td>\n",
              "      <td>0.0</td>\n",
              "      <td>0.0</td>\n",
              "      <td>0.785398</td>\n",
              "      <td>1.121574</td>\n",
              "    </tr>\n",
              "    <tr>\n",
              "      <th>2</th>\n",
              "      <td>3</td>\n",
              "      <td>1.0</td>\n",
              "      <td>0.0</td>\n",
              "      <td>1.0</td>\n",
              "      <td>1.0</td>\n",
              "      <td>-107.0</td>\n",
              "      <td>823.0</td>\n",
              "      <td>2.857143</td>\n",
              "      <td>0.285714</td>\n",
              "      <td>-0.115385</td>\n",
              "      <td>-7.0</td>\n",
              "      <td>-7.133333</td>\n",
              "      <td>15.0</td>\n",
              "      <td>1.995551</td>\n",
              "      <td>-0.279750</td>\n",
              "      <td>3.982222</td>\n",
              "      <td>0.261180</td>\n",
              "      <td>-0.095939</td>\n",
              "      <td>40.0</td>\n",
              "      <td>1.0</td>\n",
              "      <td>5.0</td>\n",
              "      <td>10.0</td>\n",
              "      <td>5.0</td>\n",
              "      <td>0.866667</td>\n",
              "      <td>0.800000</td>\n",
              "      <td>0.800000</td>\n",
              "      <td>0.000000</td>\n",
              "      <td>0.428571</td>\n",
              "      <td>0.733333</td>\n",
              "      <td>-23.0</td>\n",
              "      <td>-83.0</td>\n",
              "      <td>0.466667</td>\n",
              "      <td>1.609438</td>\n",
              "      <td>-3.0</td>\n",
              "      <td>-10.0</td>\n",
              "      <td>0.042054</td>\n",
              "      <td>-13.230769</td>\n",
              "      <td>-25.272727</td>\n",
              "      <td>-47.555556</td>\n",
              "      <td>-334.769231</td>\n",
              "      <td>...</td>\n",
              "      <td>0.433566</td>\n",
              "      <td>1.738399</td>\n",
              "      <td>0.857143</td>\n",
              "      <td>4.0</td>\n",
              "      <td>0.030612</td>\n",
              "      <td>3</td>\n",
              "      <td>0.127736</td>\n",
              "      <td>3.0</td>\n",
              "      <td>1.0</td>\n",
              "      <td>0.133333</td>\n",
              "      <td>0.333333</td>\n",
              "      <td>2.054325e-34</td>\n",
              "      <td>2.0</td>\n",
              "      <td>1.833786</td>\n",
              "      <td>0.0</td>\n",
              "      <td>0.0</td>\n",
              "      <td>1.178097</td>\n",
              "      <td>1.185760</td>\n",
              "      <td>0.145644</td>\n",
              "      <td>0.364110</td>\n",
              "      <td>1</td>\n",
              "      <td>1</td>\n",
              "      <td>0.088891</td>\n",
              "      <td>-4.468617</td>\n",
              "      <td>0.357143</td>\n",
              "      <td>9.0</td>\n",
              "      <td>0.227891</td>\n",
              "      <td>0</td>\n",
              "      <td>0.322866</td>\n",
              "      <td>1.0</td>\n",
              "      <td>1.000000</td>\n",
              "      <td>-0.066667</td>\n",
              "      <td>0.466667</td>\n",
              "      <td>0.000000e+00</td>\n",
              "      <td>2.0</td>\n",
              "      <td>0.509137</td>\n",
              "      <td>0.0</td>\n",
              "      <td>0.0</td>\n",
              "      <td>2.356194</td>\n",
              "      <td>1.388659</td>\n",
              "    </tr>\n",
              "    <tr>\n",
              "      <th>3</th>\n",
              "      <td>3</td>\n",
              "      <td>1.0</td>\n",
              "      <td>0.0</td>\n",
              "      <td>0.0</td>\n",
              "      <td>1.0</td>\n",
              "      <td>-143.0</td>\n",
              "      <td>1443.0</td>\n",
              "      <td>2.928571</td>\n",
              "      <td>0.357143</td>\n",
              "      <td>0.269231</td>\n",
              "      <td>-10.0</td>\n",
              "      <td>-9.533333</td>\n",
              "      <td>15.0</td>\n",
              "      <td>2.305549</td>\n",
              "      <td>-0.241841</td>\n",
              "      <td>5.315556</td>\n",
              "      <td>0.484196</td>\n",
              "      <td>-0.811387</td>\n",
              "      <td>41.0</td>\n",
              "      <td>3.0</td>\n",
              "      <td>3.0</td>\n",
              "      <td>6.0</td>\n",
              "      <td>9.0</td>\n",
              "      <td>1.000000</td>\n",
              "      <td>0.933333</td>\n",
              "      <td>0.466667</td>\n",
              "      <td>0.400000</td>\n",
              "      <td>0.500000</td>\n",
              "      <td>0.733333</td>\n",
              "      <td>-41.0</td>\n",
              "      <td>-112.0</td>\n",
              "      <td>0.533333</td>\n",
              "      <td>1.609438</td>\n",
              "      <td>-5.0</td>\n",
              "      <td>-13.0</td>\n",
              "      <td>0.728385</td>\n",
              "      <td>65.769231</td>\n",
              "      <td>-4.000000</td>\n",
              "      <td>114.888889</td>\n",
              "      <td>-876.769231</td>\n",
              "      <td>...</td>\n",
              "      <td>0.393316</td>\n",
              "      <td>-0.268512</td>\n",
              "      <td>0.857143</td>\n",
              "      <td>2.0</td>\n",
              "      <td>0.010204</td>\n",
              "      <td>0</td>\n",
              "      <td>0.222141</td>\n",
              "      <td>2.0</td>\n",
              "      <td>1.0</td>\n",
              "      <td>-0.200000</td>\n",
              "      <td>0.066667</td>\n",
              "      <td>8.217301e-34</td>\n",
              "      <td>2.0</td>\n",
              "      <td>2.044931</td>\n",
              "      <td>0.0</td>\n",
              "      <td>0.0</td>\n",
              "      <td>1.963495</td>\n",
              "      <td>1.000360</td>\n",
              "      <td>0.187083</td>\n",
              "      <td>0.000000</td>\n",
              "      <td>2</td>\n",
              "      <td>4</td>\n",
              "      <td>0.347742</td>\n",
              "      <td>0.993878</td>\n",
              "      <td>0.571429</td>\n",
              "      <td>3.0</td>\n",
              "      <td>0.088435</td>\n",
              "      <td>0</td>\n",
              "      <td>0.101946</td>\n",
              "      <td>1.0</td>\n",
              "      <td>0.500000</td>\n",
              "      <td>0.600000</td>\n",
              "      <td>0.066667</td>\n",
              "      <td>1.543027e-34</td>\n",
              "      <td>3.0</td>\n",
              "      <td>1.871160</td>\n",
              "      <td>0.0</td>\n",
              "      <td>0.0</td>\n",
              "      <td>1.178097</td>\n",
              "      <td>1.275250</td>\n",
              "    </tr>\n",
              "    <tr>\n",
              "      <th>4</th>\n",
              "      <td>3</td>\n",
              "      <td>1.0</td>\n",
              "      <td>0.0</td>\n",
              "      <td>1.0</td>\n",
              "      <td>1.0</td>\n",
              "      <td>-49.0</td>\n",
              "      <td>349.0</td>\n",
              "      <td>4.428571</td>\n",
              "      <td>-0.142857</td>\n",
              "      <td>0.000000</td>\n",
              "      <td>-5.0</td>\n",
              "      <td>-3.266667</td>\n",
              "      <td>15.0</td>\n",
              "      <td>3.549022</td>\n",
              "      <td>-1.086435</td>\n",
              "      <td>12.595556</td>\n",
              "      <td>1.102922</td>\n",
              "      <td>1.632896</td>\n",
              "      <td>62.0</td>\n",
              "      <td>3.0</td>\n",
              "      <td>3.0</td>\n",
              "      <td>7.0</td>\n",
              "      <td>8.0</td>\n",
              "      <td>0.333333</td>\n",
              "      <td>0.266667</td>\n",
              "      <td>0.866667</td>\n",
              "      <td>0.466667</td>\n",
              "      <td>0.333333</td>\n",
              "      <td>0.600000</td>\n",
              "      <td>-16.0</td>\n",
              "      <td>-47.0</td>\n",
              "      <td>0.600000</td>\n",
              "      <td>1.609438</td>\n",
              "      <td>6.0</td>\n",
              "      <td>-8.0</td>\n",
              "      <td>0.099760</td>\n",
              "      <td>-25.538462</td>\n",
              "      <td>-4.363636</td>\n",
              "      <td>71.444444</td>\n",
              "      <td>0.076923</td>\n",
              "      <td>...</td>\n",
              "      <td>0.657492</td>\n",
              "      <td>0.079804</td>\n",
              "      <td>0.928571</td>\n",
              "      <td>2.0</td>\n",
              "      <td>0.011905</td>\n",
              "      <td>0</td>\n",
              "      <td>0.175492</td>\n",
              "      <td>2.0</td>\n",
              "      <td>1.0</td>\n",
              "      <td>-0.066667</td>\n",
              "      <td>0.266667</td>\n",
              "      <td>8.217301e-34</td>\n",
              "      <td>3.0</td>\n",
              "      <td>2.007556</td>\n",
              "      <td>0.0</td>\n",
              "      <td>0.0</td>\n",
              "      <td>2.356194</td>\n",
              "      <td>1.281926</td>\n",
              "      <td>0.241523</td>\n",
              "      <td>0.362284</td>\n",
              "      <td>2</td>\n",
              "      <td>12</td>\n",
              "      <td>0.124301</td>\n",
              "      <td>-1.006346</td>\n",
              "      <td>0.071429</td>\n",
              "      <td>12.0</td>\n",
              "      <td>0.333333</td>\n",
              "      <td>0</td>\n",
              "      <td>0.224756</td>\n",
              "      <td>8.0</td>\n",
              "      <td>0.333333</td>\n",
              "      <td>-0.133333</td>\n",
              "      <td>0.866667</td>\n",
              "      <td>2.516548e-33</td>\n",
              "      <td>2.0</td>\n",
              "      <td>0.000000</td>\n",
              "      <td>0.0</td>\n",
              "      <td>0.0</td>\n",
              "      <td>0.785398</td>\n",
              "      <td>0.805076</td>\n",
              "    </tr>\n",
              "  </tbody>\n",
              "</table>\n",
              "<p>5 rows × 4807 columns</p>\n",
              "</div>"
            ],
            "text/plain": [
              "   class  ...  FC_LocalSimple_mean3_stderr_var6\n",
              "0      3  ...                          1.259719\n",
              "1      3  ...                          1.121574\n",
              "2      3  ...                          1.388659\n",
              "3      3  ...                          1.275250\n",
              "4      3  ...                          0.805076\n",
              "\n",
              "[5 rows x 4807 columns]"
            ]
          },
          "metadata": {},
          "execution_count": 42
        }
      ]
    },
    {
      "cell_type": "markdown",
      "metadata": {
        "id": "gk296OqjZYc6"
      },
      "source": [
        "## Load Engineered features"
      ]
    },
    {
      "cell_type": "code",
      "metadata": {
        "id": "5v_ODB0Fasky"
      },
      "source": [
        "y = df['class']\n",
        "X = df.iloc[:,1:]\n",
        "X_train, X_test, y_train, y_test = train_test_split(X, y, test_size=0.4, random_state=42)"
      ],
      "execution_count": 43,
      "outputs": []
    },
    {
      "cell_type": "code",
      "metadata": {
        "colab": {
          "base_uri": "https://localhost:8080/"
        },
        "id": "9EIcz2wQlDl_",
        "outputId": "2aac22d8-ca38-4798-fe8e-269ad5edad65"
      },
      "source": [
        "y.value_counts()"
      ],
      "execution_count": 44,
      "outputs": [
        {
          "output_type": "execute_result",
          "data": {
            "text/plain": [
              "4    34\n",
              "3    19\n",
              "1    17\n",
              "2    16\n",
              "Name: class, dtype: int64"
            ]
          },
          "metadata": {},
          "execution_count": 44
        }
      ]
    },
    {
      "cell_type": "code",
      "metadata": {
        "colab": {
          "base_uri": "https://localhost:8080/"
        },
        "id": "uh9Zxd1flSQl",
        "outputId": "c7099975-6147-4a15-9c9b-2794c825a819"
      },
      "source": [
        "y_train.value_counts()"
      ],
      "execution_count": 45,
      "outputs": [
        {
          "output_type": "execute_result",
          "data": {
            "text/plain": [
              "4    24\n",
              "1    11\n",
              "3     9\n",
              "2     7\n",
              "Name: class, dtype: int64"
            ]
          },
          "metadata": {},
          "execution_count": 45
        }
      ]
    },
    {
      "cell_type": "code",
      "metadata": {
        "colab": {
          "base_uri": "https://localhost:8080/"
        },
        "id": "GfbB87UUlVhR",
        "outputId": "2cfc9fa4-ec3a-48c9-9f8e-94150aae13e2"
      },
      "source": [
        "y_test.value_counts().sum()"
      ],
      "execution_count": 49,
      "outputs": [
        {
          "output_type": "execute_result",
          "data": {
            "text/plain": [
              "35"
            ]
          },
          "metadata": {},
          "execution_count": 49
        }
      ]
    },
    {
      "cell_type": "markdown",
      "metadata": {
        "id": "exMQJV4qZYc8"
      },
      "source": [
        "# Multiclass feature selection"
      ]
    },
    {
      "cell_type": "markdown",
      "metadata": {
        "id": "MS43RNA5ZYc-"
      },
      "source": [
        "## Improved Multiclass feature selection\n",
        "We can instead specify the number of classes for which a feature should be a relevant predictor in order to pass through the filtering process. This is as simple as setting the `multiclass` parameter to `True` and setting `n_significant` to the required number of classes. We will try with a requirement of being relevant for 5 classes."
      ]
    },
    {
      "cell_type": "code",
      "metadata": {
        "colab": {
          "base_uri": "https://localhost:8080/"
        },
        "id": "ZUnXSOf8hwMt",
        "outputId": "af2530f4-86e3-4e1f-8933-4b5cbde59fc3"
      },
      "source": [
        "y.unique()"
      ],
      "execution_count": 47,
      "outputs": [
        {
          "output_type": "execute_result",
          "data": {
            "text/plain": [
              "array([3, 1, 4, 2])"
            ]
          },
          "metadata": {},
          "execution_count": 47
        }
      ]
    },
    {
      "cell_type": "code",
      "metadata": {
        "colab": {
          "base_uri": "https://localhost:8080/"
        },
        "id": "VS4QZlI1xigB",
        "outputId": "f04627b0-dd20-4e59-ebf5-4999c19d3312"
      },
      "source": [
        "print('n_significant = 0')\n",
        "X_train_filtered_multi_0 = select_features(X_train, y_train, multiclass=True, n_significant= 0)\n",
        "print(X_train_filtered_multi_0.shape)\n",
        "\n",
        "\n",
        "print('n_significant = 1')\n",
        "X_train_filtered_multi_1 = select_features(X_train, y_train, multiclass=True, n_significant= 1)\n",
        "print(X_train_filtered_multi_1.shape)\n",
        "\n",
        "print('n_significant = 2')\n",
        "X_train_filtered_multi_2 = select_features(X_train, y_train, multiclass=True, n_significant= 2)\n",
        "print(X_train_filtered_multi_2.shape)\n",
        "\n",
        "print('n_significant = 3')\n",
        "X_train_filtered_multi_3 = select_features(X_train, y_train, multiclass=True, n_significant= 3)\n",
        "print(X_train_filtered_multi_3.shape)\n",
        "\n",
        "print('n_significant = 4')\n",
        "X_train_filtered_multi_4 = select_features(X_train, y_train, multiclass=True, n_significant= 4)\n",
        "print(X_train_filtered_multi_4.shape)"
      ],
      "execution_count": 48,
      "outputs": [
        {
          "output_type": "stream",
          "name": "stdout",
          "text": [
            "n_significant = 0\n",
            "(51, 2178)\n",
            "n_significant = 1\n",
            "(51, 599)\n",
            "n_significant = 2\n",
            "(51, 242)\n",
            "n_significant = 3\n",
            "(51, 22)\n",
            "n_significant = 4\n",
            "(51, 0)\n"
          ]
        }
      ]
    },
    {
      "cell_type": "markdown",
      "metadata": {
        "id": "8cFgPgN84CDp"
      },
      "source": [
        "## Full Dataset Without selection"
      ]
    },
    {
      "cell_type": "code",
      "metadata": {
        "colab": {
          "base_uri": "https://localhost:8080/"
        },
        "id": "RMKlTJoC4Hd6",
        "outputId": "40565bda-a909-4d28-dc26-b0f1ada9db22"
      },
      "source": [
        "print(X_train.shape)\n",
        "print(X_test.shape)"
      ],
      "execution_count": 18,
      "outputs": [
        {
          "output_type": "stream",
          "name": "stdout",
          "text": [
            "(51, 4806)\n",
            "(35, 4806)\n"
          ]
        }
      ]
    },
    {
      "cell_type": "code",
      "metadata": {
        "id": "0o3QFRb44BRq"
      },
      "source": [
        "import timeit\n",
        "from catboost import CatBoostClassifier\n",
        "from sklearn.metrics import confusion_matrix, accuracy_score\n",
        "\n",
        "start = timeit.default_timer()\n",
        "\n",
        "#Your statements here\n",
        "model = CatBoostClassifier(\n",
        "    learning_rate=0.35,\n",
        "    l2_leaf_reg=1,\n",
        "    depth=3,\n",
        "    loss_function='MultiClass',\n",
        ")\n",
        "\n",
        "model.fit(X_train, y_train)\n",
        "y_pred = model.predict(X_test)\n",
        "score = accuracy_score(y_test, y_pred)\n",
        "error_rate = 1-score\n",
        "\n",
        "stop = timeit.default_timer()"
      ],
      "execution_count": null,
      "outputs": []
    },
    {
      "cell_type": "code",
      "metadata": {
        "colab": {
          "base_uri": "https://localhost:8080/"
        },
        "id": "qJX6BOqD-LvU",
        "outputId": "ab92748a-5dc1-4461-9102-149acffbfd9a"
      },
      "source": [
        "print('Time: ', stop - start)  "
      ],
      "execution_count": 22,
      "outputs": [
        {
          "output_type": "stream",
          "name": "stdout",
          "text": [
            "Time:  54.74234580699999\n"
          ]
        }
      ]
    },
    {
      "cell_type": "code",
      "metadata": {
        "colab": {
          "base_uri": "https://localhost:8080/"
        },
        "id": "eO5SsYW85Gi8",
        "outputId": "9b8f8fa0-9294-4dab-cd58-53ecd9ed47ca"
      },
      "source": [
        "print(error_rate)"
      ],
      "execution_count": 23,
      "outputs": [
        {
          "output_type": "stream",
          "name": "stdout",
          "text": [
            "0.05714285714285716\n"
          ]
        }
      ]
    },
    {
      "cell_type": "code",
      "metadata": {
        "colab": {
          "base_uri": "https://localhost:8080/",
          "height": 295
        },
        "id": "egEV0jCZ5MGh",
        "outputId": "1184a6c9-841a-4c9f-c4f6-3ed391f2bc39"
      },
      "source": [
        "import pandas as pd\n",
        "import numpy as np\n",
        "import seaborn as sns\n",
        "import matplotlib.pyplot as plt\n",
        "from sklearn.metrics import confusion_matrix\n",
        "\n",
        "cm = confusion_matrix(y_test, y_pred)\n",
        "\n",
        "cm_df = pd.DataFrame(cm,\n",
        "                     index = ['1','2','3','4'], \n",
        "                     columns = ['1','2','3','4'])\n",
        "\n",
        "#Plotting the confusion matrix\n",
        "plt.figure(figsize=(5,4))\n",
        "sns.heatmap(cm_df, annot=True)\n",
        "plt.title('Confusion Matrix')\n",
        "plt.ylabel('Actal Values')\n",
        "plt.xlabel('Predicted Values')\n",
        "plt.show()"
      ],
      "execution_count": 24,
      "outputs": [
        {
          "output_type": "display_data",
          "data": {
            "image/png": "[encoded data removed]",
            "text/plain": [
              "<Figure size 360x288 with 2 Axes>"
            ]
          },
          "metadata": {
            "needs_background": "light"
          }
        }
      ]
    },
    {
      "cell_type": "markdown",
      "metadata": {
        "id": "JAC_tKNdQlpj"
      },
      "source": [
        "## n_significant = 0"
      ]
    },
    {
      "cell_type": "code",
      "metadata": {
        "colab": {
          "base_uri": "https://localhost:8080/"
        },
        "id": "pTUpKe8zQmRL",
        "outputId": "2f1dff15-9add-4efc-f54b-9c1e89967315"
      },
      "source": [
        "selected = list(X_train_filtered_multi_0.columns.values)\n",
        "\n",
        "X_train_filtered = X_train[selected]\n",
        "X_test_filtered = X_test[selected]\n",
        "\n",
        "print(X_train_filtered.shape)\n",
        "print(X_test_filtered.shape)"
      ],
      "execution_count": 25,
      "outputs": [
        {
          "output_type": "stream",
          "name": "stdout",
          "text": [
            "(51, 2178)\n",
            "(35, 2178)\n"
          ]
        }
      ]
    },
    {
      "cell_type": "code",
      "metadata": {
        "id": "FC74f-8LQr7j"
      },
      "source": [
        "import timeit\n",
        "from catboost import CatBoostClassifier\n",
        "from sklearn.metrics import confusion_matrix, accuracy_score\n",
        "\n",
        "start = timeit.default_timer()\n",
        "\n",
        "model = CatBoostClassifier(\n",
        "    learning_rate=0.5,\n",
        "    l2_leaf_reg=7,\n",
        "    depth=4,\n",
        "    loss_function='MultiClass',\n",
        ")\n",
        "\n",
        "model = CatBoostClassifier(\n",
        "    learning_rate=0.35,\n",
        "    l2_leaf_reg=1,\n",
        "    depth=3,\n",
        "    loss_function='MultiClass',\n",
        ")\n",
        "\n",
        "\n",
        "model.fit(X_train_filtered, y_train)\n",
        "y_pred = model.predict(X_test_filtered)\n",
        "score = accuracy_score(y_test, y_pred)\n",
        "error_rate = 1-score\n",
        "\n",
        "stop = timeit.default_timer()\n"
      ],
      "execution_count": null,
      "outputs": []
    },
    {
      "cell_type": "code",
      "metadata": {
        "colab": {
          "base_uri": "https://localhost:8080/"
        },
        "id": "aBVWov5YQsw0",
        "outputId": "477d40df-4342-490d-a0b9-77d9c228c440"
      },
      "source": [
        "print('Time: ', stop - start) \n",
        "print(error_rate)"
      ],
      "execution_count": 27,
      "outputs": [
        {
          "output_type": "stream",
          "name": "stdout",
          "text": [
            "Time:  54.299598414\n",
            "0.05714285714285716\n"
          ]
        }
      ]
    },
    {
      "cell_type": "code",
      "metadata": {
        "id": "UAsEoNQfGOlz"
      },
      "source": [
        "#Applying the K-Fold Cross Validation for CatBoost\n",
        "from sklearn.model_selection import cross_val_score\n",
        "\n",
        "accuracies = cross_val_score(estimator = model, X = X, y = y, cv = 5)"
      ],
      "execution_count": null,
      "outputs": []
    },
    {
      "cell_type": "code",
      "metadata": {
        "colab": {
          "base_uri": "https://localhost:8080/"
        },
        "id": "qg0noIJdNKHQ",
        "outputId": "36998398-eef0-4c5b-9083-62d5e2223ae3"
      },
      "source": [
        "accuracies"
      ],
      "execution_count": 35,
      "outputs": [
        {
          "output_type": "execute_result",
          "data": {
            "text/plain": [
              "array([1.        , 0.88235294, 0.94117647, 1.        , 0.88235294])"
            ]
          },
          "metadata": {},
          "execution_count": 35
        }
      ]
    },
    {
      "cell_type": "code",
      "metadata": {
        "colab": {
          "base_uri": "https://localhost:8080/"
        },
        "id": "Fc93oVCBM7Lt",
        "outputId": "3a651bc4-50d2-4b6c-a1bd-90230109b8b6"
      },
      "source": [
        "print(\"Accuracy:{:.2f} %\".format(accuracies.mean()*100))\n",
        "print(\"Standard Deviation:{:.2f} %\".format(accuracies.std()*100))"
      ],
      "execution_count": 34,
      "outputs": [
        {
          "output_type": "stream",
          "name": "stdout",
          "text": [
            "Accuracy:94.12 %\n",
            "Standard Deviation:5.26 %\n"
          ]
        }
      ]
    },
    {
      "cell_type": "code",
      "metadata": {
        "id": "KrLGC1TdQy66"
      },
      "source": [
        "import pandas as pd\n",
        "import numpy as np\n",
        "import seaborn as sns\n",
        "import matplotlib.pyplot as plt\n",
        "from sklearn.metrics import confusion_matrix\n",
        "\n",
        "cm = confusion_matrix(y_test, y_pred)\n",
        "\n",
        "cm_df = pd.DataFrame(cm,\n",
        "                     index = ['1','2','3','4'], \n",
        "                     columns = ['1','2','3','4'])\n",
        "\n",
        "#Plotting the confusion matrix\n",
        "plt.figure(figsize=(5,4))\n",
        "sns.heatmap(cm_df, annot=True)\n",
        "plt.title('Confusion Matrix')\n",
        "plt.ylabel('Actal Values')\n",
        "plt.xlabel('Predicted Values')\n",
        "plt.show()"
      ],
      "execution_count": null,
      "outputs": []
    },
    {
      "cell_type": "markdown",
      "metadata": {
        "id": "W0YaFhOh2Ouh"
      },
      "source": [
        "## n_significant = 1"
      ]
    },
    {
      "cell_type": "code",
      "metadata": {
        "id": "_NE_ft140hfL"
      },
      "source": [
        "selected = list(X_train_filtered_multi_1.columns.values)\n",
        "\n",
        "X_train_filtered = X_train[selected]\n",
        "X_test_filtered = X_test[selected]\n",
        "\n",
        "print(X_train_filtered.shape)\n",
        "print(X_test_filtered.shape)\n",
        "\n",
        "import timeit\n",
        "from catboost import CatBoostClassifier\n",
        "from sklearn.metrics import confusion_matrix, accuracy_score\n",
        "\n",
        "start = timeit.default_timer()\n",
        "\n",
        "model = CatBoostClassifier(\n",
        "    learning_rate=0.5,\n",
        "    l2_leaf_reg=7,\n",
        "    depth=4,\n",
        "    loss_function='MultiClass',\n",
        ")\n",
        "\n",
        "model = CatBoostClassifier(\n",
        "    learning_rate=0.35,\n",
        "    l2_leaf_reg=1,\n",
        "    depth=3,\n",
        "    loss_function='MultiClass',\n",
        ")\n",
        "\n",
        "\n",
        "model.fit(X_train_filtered, y_train)\n",
        "y_pred = model.predict(X_test_filtered)\n",
        "score = accuracy_score(y_test, y_pred)\n",
        "error_rate = 1-score\n",
        "\n",
        "stop = timeit.default_timer()\n"
      ],
      "execution_count": null,
      "outputs": []
    },
    {
      "cell_type": "code",
      "metadata": {
        "colab": {
          "base_uri": "https://localhost:8080/"
        },
        "id": "fYX8fe_M-OjA",
        "outputId": "4f1adb55-0868-4840-c19e-81f3ad0d02f1"
      },
      "source": [
        "print('Time: ', stop - start) "
      ],
      "execution_count": 168,
      "outputs": [
        {
          "output_type": "stream",
          "name": "stdout",
          "text": [
            "Time:  15.68012389100113\n"
          ]
        }
      ]
    },
    {
      "cell_type": "code",
      "metadata": {
        "colab": {
          "base_uri": "https://localhost:8080/"
        },
        "id": "MYy0VUIfonmv",
        "outputId": "32ad33e2-e0c1-4168-d03d-b5838ebbd04e"
      },
      "source": [
        "print(error_rate)"
      ],
      "execution_count": 169,
      "outputs": [
        {
          "output_type": "stream",
          "name": "stdout",
          "text": [
            "0.08571428571428574\n"
          ]
        }
      ]
    },
    {
      "cell_type": "code",
      "metadata": {
        "colab": {
          "base_uri": "https://localhost:8080/",
          "height": 295
        },
        "id": "z3hanC8d1etS",
        "outputId": "642e3add-6f95-46a5-e3ad-ba56e7a68e61"
      },
      "source": [
        "import pandas as pd\n",
        "import numpy as np\n",
        "import seaborn as sns\n",
        "import matplotlib.pyplot as plt\n",
        "from sklearn.metrics import confusion_matrix\n",
        "\n",
        "cm = confusion_matrix(y_test, y_pred)\n",
        "\n",
        "cm_df = pd.DataFrame(cm,\n",
        "                     index = ['1','2','3','4'], \n",
        "                     columns = ['1','2','3','4'])\n",
        "\n",
        "#Plotting the confusion matrix\n",
        "plt.figure(figsize=(5,4))\n",
        "sns.heatmap(cm_df, annot=True)\n",
        "plt.title('Confusion Matrix')\n",
        "plt.ylabel('Actal Values')\n",
        "plt.xlabel('Predicted Values')\n",
        "plt.show()"
      ],
      "execution_count": 170,
      "outputs": [
        {
          "output_type": "display_data",
          "data": {
            "image/png": "[encoded data removed]",
            "text/plain": [
              "<Figure size 360x288 with 2 Axes>"
            ]
          },
          "metadata": {
            "needs_background": "light"
          }
        }
      ]
    },
    {
      "cell_type": "code",
      "metadata": {
        "colab": {
          "base_uri": "https://localhost:8080/"
        },
        "id": "J-AHHHuX14UC",
        "outputId": "c258da7e-0067-47e6-f160-2ec5257d9c01"
      },
      "source": [
        "y_test.value_counts()"
      ],
      "execution_count": 171,
      "outputs": [
        {
          "output_type": "execute_result",
          "data": {
            "text/plain": [
              "4    10\n",
              "3    10\n",
              "2     9\n",
              "1     6\n",
              "Name: class, dtype: int64"
            ]
          },
          "metadata": {},
          "execution_count": 171
        }
      ]
    },
    {
      "cell_type": "markdown",
      "metadata": {
        "id": "TSSjFwWK2KoO"
      },
      "source": [
        "## n_significant = 2"
      ]
    },
    {
      "cell_type": "code",
      "metadata": {
        "colab": {
          "base_uri": "https://localhost:8080/"
        },
        "id": "dxpjRdHr3qQB",
        "outputId": "1f55d953-0e4d-4ee8-fe00-cd1a2bd14206"
      },
      "source": [
        "'''\n",
        "Input \n",
        "'''\n",
        "selected = list(X_train_filtered_multi_2.columns.values)\n",
        "\n",
        "X_train_filtered = X_train[selected]\n",
        "X_test_filtered = X_test[selected]\n",
        "\n",
        "print(X_train_filtered.shape)\n",
        "print(X_test_filtered.shape)"
      ],
      "execution_count": 188,
      "outputs": [
        {
          "output_type": "stream",
          "name": "stdout",
          "text": [
            "(51, 242)\n",
            "(35, 242)\n"
          ]
        }
      ]
    },
    {
      "cell_type": "code",
      "metadata": {
        "id": "y1jZ3gki1vC0"
      },
      "source": [
        "import pandas as pd\n",
        "import numpy as np\n",
        "import seaborn as sns\n",
        "import matplotlib.pyplot as plt\n",
        "import timeit\n",
        "from catboost import CatBoostClassifier\n",
        "from sklearn.metrics import confusion_matrix, accuracy_score\n",
        "\n",
        "start = timeit.default_timer()\n",
        "\n",
        "model = CatBoostClassifier(\n",
        "    learning_rate=0.5,\n",
        "    l2_leaf_reg=7,\n",
        "    depth=4,\n",
        "    loss_function='MultiClass',\n",
        ")\n",
        "\n",
        "model = CatBoostClassifier(\n",
        "    learning_rate=0.35,\n",
        "    l2_leaf_reg=1,\n",
        "    depth=3,\n",
        "    loss_function='MultiClass',\n",
        ")\n",
        "\n",
        "\n",
        "model.fit(X_train_filtered, y_train)\n",
        "y_pred = model.predict(X_test_filtered)\n",
        "score = accuracy_score(y_test, y_pred)\n",
        "error_rate = 1-score\n",
        "\n",
        "stop = timeit.default_timer()\n",
        "print('Time: ', stop - start) "
      ],
      "execution_count": null,
      "outputs": []
    },
    {
      "cell_type": "code",
      "metadata": {
        "colab": {
          "base_uri": "https://localhost:8080/"
        },
        "id": "2fFLWFCB-QKf",
        "outputId": "c5ef498a-6d16-4333-cb78-5477d70c0105"
      },
      "source": [
        "print('Time: ', stop - start)"
      ],
      "execution_count": 190,
      "outputs": [
        {
          "output_type": "stream",
          "name": "stdout",
          "text": [
            "Time:  6.951249710999036\n"
          ]
        }
      ]
    },
    {
      "cell_type": "code",
      "metadata": {
        "colab": {
          "base_uri": "https://localhost:8080/"
        },
        "id": "c126W9dL2zs6",
        "outputId": "c327966f-57f0-4a68-e19e-f330cc7ebfb7"
      },
      "source": [
        "print(error_rate)"
      ],
      "execution_count": 191,
      "outputs": [
        {
          "output_type": "stream",
          "name": "stdout",
          "text": [
            "0.05714285714285716\n"
          ]
        }
      ]
    },
    {
      "cell_type": "code",
      "metadata": {
        "colab": {
          "base_uri": "https://localhost:8080/",
          "height": 295
        },
        "id": "sCFBFdXR2dcr",
        "outputId": "c60fc5e3-2de9-4de4-93d8-8a72507c8bd3"
      },
      "source": [
        "cm = confusion_matrix(y_test, y_pred)\n",
        "\n",
        "cm_df = pd.DataFrame(cm,\n",
        "                     index = ['1','2','3','4'], \n",
        "                     columns = ['1','2','3','4'])\n",
        "\n",
        "#Plotting the confusion matrix\n",
        "plt.figure(figsize=(5,4))\n",
        "sns.heatmap(cm_df, annot=True)\n",
        "plt.title('Confusion Matrix')\n",
        "plt.ylabel('Actal Values')\n",
        "plt.xlabel('Predicted Values')\n",
        "plt.show()"
      ],
      "execution_count": 192,
      "outputs": [
        {
          "output_type": "display_data",
          "data": {
            "image/png": "[encoded data removed]",
            "text/plain": [
              "<Figure size 360x288 with 2 Axes>"
            ]
          },
          "metadata": {
            "needs_background": "light"
          }
        }
      ]
    },
    {
      "cell_type": "markdown",
      "metadata": {
        "id": "y1xkwQxl2hPL"
      },
      "source": [
        "## n_significant = 3"
      ]
    },
    {
      "cell_type": "code",
      "metadata": {
        "colab": {
          "base_uri": "https://localhost:8080/"
        },
        "id": "jmmg1pYK91nu",
        "outputId": "035e4b4e-55f2-4be6-a425-2efef11fbbe6"
      },
      "source": [
        "'''\n",
        "Input \n",
        "'''\n",
        "selected = list(X_train_filtered_multi_3.columns.values)\n",
        "\n",
        "X_train_filtered = X_train[selected]\n",
        "X_test_filtered = X_test[selected]\n",
        "\n",
        "print(X_train_filtered.shape)\n",
        "print(X_test_filtered.shape)"
      ],
      "execution_count": 177,
      "outputs": [
        {
          "output_type": "stream",
          "name": "stdout",
          "text": [
            "(51, 22)\n",
            "(35, 22)\n"
          ]
        }
      ]
    },
    {
      "cell_type": "code",
      "metadata": {
        "id": "YahH2QK92sp4"
      },
      "source": [
        "import pandas as pd\n",
        "import numpy as np\n",
        "import seaborn as sns\n",
        "import matplotlib.pyplot as plt\n",
        "from sklearn.metrics import confusion_matrix\n",
        "import timeit\n",
        "\n",
        "start = timeit.default_timer()\n",
        "\n",
        "model = CatBoostClassifier(\n",
        "    learning_rate=0.5,\n",
        "    l2_leaf_reg=7,\n",
        "    depth=4,\n",
        "    loss_function='MultiClass',\n",
        ")\n",
        "\n",
        "model = CatBoostClassifier(\n",
        "    learning_rate=0.35,\n",
        "    l2_leaf_reg=1,\n",
        "    depth=3,\n",
        "    loss_function='MultiClass',\n",
        ")\n",
        "\n",
        "\n",
        "model.fit(X_train_filtered, y_train)\n",
        "y_pred = model.predict(X_test_filtered)\n",
        "score = accuracy_score(y_test, y_pred)\n",
        "error_rate = 1-score\n",
        "\n",
        "stop = timeit.default_timer()\n",
        "print('Time: ', stop - start) "
      ],
      "execution_count": null,
      "outputs": []
    },
    {
      "cell_type": "code",
      "metadata": {
        "colab": {
          "base_uri": "https://localhost:8080/"
        },
        "id": "DFIBM47k-TZC",
        "outputId": "0b659f17-6c56-4eaf-fe73-ea7d05678722"
      },
      "source": [
        "print('Time: ', stop - start) "
      ],
      "execution_count": 179,
      "outputs": [
        {
          "output_type": "stream",
          "name": "stdout",
          "text": [
            "Time:  1.1010021040001448\n"
          ]
        }
      ]
    },
    {
      "cell_type": "code",
      "metadata": {
        "colab": {
          "base_uri": "https://localhost:8080/"
        },
        "id": "sJk4zTwd20hJ",
        "outputId": "222a84c0-f814-4b20-9cde-d55af46cf0b7"
      },
      "source": [
        "print(error_rate)"
      ],
      "execution_count": 180,
      "outputs": [
        {
          "output_type": "stream",
          "name": "stdout",
          "text": [
            "0.1428571428571429\n"
          ]
        }
      ]
    },
    {
      "cell_type": "code",
      "metadata": {
        "colab": {
          "base_uri": "https://localhost:8080/",
          "height": 295
        },
        "id": "ibN0dHPj2eN9",
        "outputId": "c2304046-0240-4c2e-b17c-b6ec01326a20"
      },
      "source": [
        "cm = confusion_matrix(y_test, y_pred)\n",
        "\n",
        "cm_df = pd.DataFrame(cm,\n",
        "                     index = ['1','2','3','4'], \n",
        "                     columns = ['1','2','3','4'])\n",
        "\n",
        "#Plotting the confusion matrix\n",
        "plt.figure(figsize=(5,4))\n",
        "sns.heatmap(cm_df, annot=True)\n",
        "plt.title('Confusion Matrix')\n",
        "plt.ylabel('Actal Values')\n",
        "plt.xlabel('Predicted Values')\n",
        "plt.show()"
      ],
      "execution_count": 181,
      "outputs": [
        {
          "output_type": "display_data",
          "data": {
            "image/png": "[encoded data removed]",
            "text/plain": [
              "<Figure size 360x288 with 2 Axes>"
            ]
          },
          "metadata": {
            "needs_background": "light"
          }
        }
      ]
    },
    {
      "cell_type": "code",
      "metadata": {
        "id": "_IPb29BH2uv-"
      },
      "source": [
        ""
      ],
      "execution_count": 181,
      "outputs": []
    }
  ]
}