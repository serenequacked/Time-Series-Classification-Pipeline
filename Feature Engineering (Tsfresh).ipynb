{
 "cells": [
  {
   "cell_type": "markdown",
   "metadata": {},
   "source": [
    "# 1. Tsfresh: Univariate Feature Engineering with Robot Failure Dataset (LP1)"
   ]
  },
  {
   "cell_type": "markdown",
   "metadata": {},
   "source": [
    "This basic example shows how to use [tsfresh](https://tsfresh.readthedocs.io/) to extract useful features from univaraite timeseries and use them to improve classification performance.\n",
    "\n",
    "We use the gunpoint dataset as an example."
   ]
  },
  {
   "cell_type": "code",
   "execution_count": 6,
   "metadata": {},
   "outputs": [],
   "source": [
    "import pandas as pd\n",
    "from tsfresh import extract_features, extract_relevant_features, select_features\n",
    "from tsfresh.utilities.dataframe_functions import impute\n",
    "from tsfresh.feature_extraction import ComprehensiveFCParameters\n",
    "\n",
    "#load dataset\n",
    "lp1 = pd.read_csv(r'C:\\Users\\seren\\Documents\\RR Lab Documents\\lp1_fulldata.csv')\n",
    "\n",
    "y = lp1['class']\n",
    "lp1 = lp1.drop(['class'], axis=1)\n",
    "lp1 = lp1.iloc[:, :3] #univariate"
   ]
  },
  {
   "cell_type": "code",
   "execution_count": 7,
   "metadata": {},
   "outputs": [
    {
     "data": {
      "text/html": [
       "<div>\n",
       "<style scoped>\n",
       "    .dataframe tbody tr th:only-of-type {\n",
       "        vertical-align: middle;\n",
       "    }\n",
       "\n",
       "    .dataframe tbody tr th {\n",
       "        vertical-align: top;\n",
       "    }\n",
       "\n",
       "    .dataframe thead th {\n",
       "        text-align: right;\n",
       "    }\n",
       "</style>\n",
       "<table border=\"1\" class=\"dataframe\">\n",
       "  <thead>\n",
       "    <tr style=\"text-align: right;\">\n",
       "      <th></th>\n",
       "      <th>id</th>\n",
       "      <th>time</th>\n",
       "      <th>var1</th>\n",
       "    </tr>\n",
       "  </thead>\n",
       "  <tbody>\n",
       "    <tr>\n",
       "      <th>0</th>\n",
       "      <td>1</td>\n",
       "      <td>1</td>\n",
       "      <td>-1</td>\n",
       "    </tr>\n",
       "    <tr>\n",
       "      <th>1</th>\n",
       "      <td>1</td>\n",
       "      <td>2</td>\n",
       "      <td>0</td>\n",
       "    </tr>\n",
       "    <tr>\n",
       "      <th>2</th>\n",
       "      <td>1</td>\n",
       "      <td>3</td>\n",
       "      <td>-1</td>\n",
       "    </tr>\n",
       "    <tr>\n",
       "      <th>3</th>\n",
       "      <td>1</td>\n",
       "      <td>4</td>\n",
       "      <td>-1</td>\n",
       "    </tr>\n",
       "    <tr>\n",
       "      <th>4</th>\n",
       "      <td>1</td>\n",
       "      <td>5</td>\n",
       "      <td>-1</td>\n",
       "    </tr>\n",
       "  </tbody>\n",
       "</table>\n",
       "</div>"
      ],
      "text/plain": [
       "   id  time  var1\n",
       "0   1     1    -1\n",
       "1   1     2     0\n",
       "2   1     3    -1\n",
       "3   1     4    -1\n",
       "4   1     5    -1"
      ]
     },
     "execution_count": 7,
     "metadata": {},
     "output_type": "execute_result"
    }
   ],
   "source": [
    "lp1.head()"
   ]
  },
  {
   "cell_type": "code",
   "execution_count": 8,
   "metadata": {},
   "outputs": [
    {
     "name": "stderr",
     "output_type": "stream",
     "text": [
      "Feature Extraction: 100%|██████████████████████████████████████████████████████████████| 18/18 [00:07<00:00,  2.35it/s]\n"
     ]
    }
   ],
   "source": [
    "extraction_settings = ComprehensiveFCParameters()\n",
    "\n",
    "X = extract_features(lp1, column_id='id', column_sort='time',\n",
    "                     default_fc_parameters=extraction_settings,\n",
    "                     # we impute = remove all NaN features automatically\n",
    "                     impute_function=impute)"
   ]
  },
  {
   "cell_type": "code",
   "execution_count": 9,
   "metadata": {},
   "outputs": [
    {
     "name": "stdout",
     "output_type": "stream",
     "text": [
      "Extracted Feature set shape:  (88, 779)\n",
      "Extracted Feature set shape with class labels:  (88, 780)\n"
     ]
    }
   ],
   "source": [
    "print('Extracted Feature set shape: ', X.shape)\n",
    "X['class'] = y\n",
    "print('Extracted Feature set shape with class labels: ', X.shape)"
   ]
  },
  {
   "cell_type": "markdown",
   "metadata": {},
   "source": [
    "# 2. Tsfresh: Multivariate Feature Engineering with Robot Failure Dataset (LP1)"
   ]
  },
  {
   "cell_type": "markdown",
   "metadata": {},
   "source": [
    "This basic example shows how to use [tsfresh](https://tsfresh.readthedocs.io/) to extract useful features from multiple timeseries and use them to improve classification performance.\n",
    "\n",
    "We use the robot failure data set as an example."
   ]
  },
  {
   "cell_type": "code",
   "execution_count": 10,
   "metadata": {},
   "outputs": [],
   "source": [
    "import pandas as pd\n",
    "from tsfresh import extract_features, extract_relevant_features, select_features\n",
    "from tsfresh.utilities.dataframe_functions import impute\n",
    "from tsfresh.feature_extraction import ComprehensiveFCParameters"
   ]
  },
  {
   "cell_type": "markdown",
   "metadata": {},
   "source": [
    "## Extract Features"
   ]
  },
  {
   "cell_type": "code",
   "execution_count": 11,
   "metadata": {},
   "outputs": [],
   "source": [
    "#load dataset\n",
    "lp1 = pd.read_csv(r'C:\\Users\\seren\\Documents\\RR Lab Documents\\lp1_fulldata.csv')\n",
    "\n",
    "y = lp1['class']\n",
    "lp1 = lp1.drop(['class'], axis=1)"
   ]
  },
  {
   "cell_type": "code",
   "execution_count": 12,
   "metadata": {},
   "outputs": [
    {
     "data": {
      "text/html": [
       "<div>\n",
       "<style scoped>\n",
       "    .dataframe tbody tr th:only-of-type {\n",
       "        vertical-align: middle;\n",
       "    }\n",
       "\n",
       "    .dataframe tbody tr th {\n",
       "        vertical-align: top;\n",
       "    }\n",
       "\n",
       "    .dataframe thead th {\n",
       "        text-align: right;\n",
       "    }\n",
       "</style>\n",
       "<table border=\"1\" class=\"dataframe\">\n",
       "  <thead>\n",
       "    <tr style=\"text-align: right;\">\n",
       "      <th></th>\n",
       "      <th>id</th>\n",
       "      <th>time</th>\n",
       "      <th>var1</th>\n",
       "      <th>var2</th>\n",
       "      <th>var3</th>\n",
       "      <th>var4</th>\n",
       "      <th>var5</th>\n",
       "      <th>var6</th>\n",
       "    </tr>\n",
       "  </thead>\n",
       "  <tbody>\n",
       "    <tr>\n",
       "      <th>0</th>\n",
       "      <td>1</td>\n",
       "      <td>1</td>\n",
       "      <td>-1</td>\n",
       "      <td>0</td>\n",
       "      <td>57</td>\n",
       "      <td>-5</td>\n",
       "      <td>-3</td>\n",
       "      <td>0</td>\n",
       "    </tr>\n",
       "    <tr>\n",
       "      <th>1</th>\n",
       "      <td>1</td>\n",
       "      <td>2</td>\n",
       "      <td>0</td>\n",
       "      <td>-3</td>\n",
       "      <td>63</td>\n",
       "      <td>-1</td>\n",
       "      <td>0</td>\n",
       "      <td>0</td>\n",
       "    </tr>\n",
       "    <tr>\n",
       "      <th>2</th>\n",
       "      <td>1</td>\n",
       "      <td>3</td>\n",
       "      <td>-1</td>\n",
       "      <td>1</td>\n",
       "      <td>51</td>\n",
       "      <td>-4</td>\n",
       "      <td>-1</td>\n",
       "      <td>-1</td>\n",
       "    </tr>\n",
       "    <tr>\n",
       "      <th>3</th>\n",
       "      <td>1</td>\n",
       "      <td>4</td>\n",
       "      <td>-1</td>\n",
       "      <td>-2</td>\n",
       "      <td>68</td>\n",
       "      <td>-2</td>\n",
       "      <td>-2</td>\n",
       "      <td>0</td>\n",
       "    </tr>\n",
       "    <tr>\n",
       "      <th>4</th>\n",
       "      <td>1</td>\n",
       "      <td>5</td>\n",
       "      <td>-1</td>\n",
       "      <td>-1</td>\n",
       "      <td>65</td>\n",
       "      <td>-6</td>\n",
       "      <td>1</td>\n",
       "      <td>0</td>\n",
       "    </tr>\n",
       "  </tbody>\n",
       "</table>\n",
       "</div>"
      ],
      "text/plain": [
       "   id  time  var1  var2  var3  var4  var5  var6\n",
       "0   1     1    -1     0    57    -5    -3     0\n",
       "1   1     2     0    -3    63    -1     0     0\n",
       "2   1     3    -1     1    51    -4    -1    -1\n",
       "3   1     4    -1    -2    68    -2    -2     0\n",
       "4   1     5    -1    -1    65    -6     1     0"
      ]
     },
     "execution_count": 12,
     "metadata": {},
     "output_type": "execute_result"
    }
   ],
   "source": [
    "lp1.head()"
   ]
  },
  {
   "cell_type": "code",
   "execution_count": 13,
   "metadata": {},
   "outputs": [
    {
     "name": "stderr",
     "output_type": "stream",
     "text": [
      "Feature Extraction: 100%|██████████████████████████████████████████████████████████████| 20/20 [00:23<00:00,  1.15s/it]\n"
     ]
    }
   ],
   "source": [
    "extraction_settings = ComprehensiveFCParameters()\n",
    "\n",
    "X = extract_features(lp1, column_id='id', column_sort='time',\n",
    "                     default_fc_parameters=extraction_settings,\n",
    "                     # we impute = remove all NaN features automatically\n",
    "                     impute_function=impute)"
   ]
  },
  {
   "cell_type": "markdown",
   "metadata": {},
   "source": [
    "It should be noted that given that there are 6 variables, this results in the 779*6 columns to be created. "
   ]
  },
  {
   "cell_type": "code",
   "execution_count": 14,
   "metadata": {},
   "outputs": [
    {
     "name": "stdout",
     "output_type": "stream",
     "text": [
      "Extracted Feature set shape:  (88, 4674)\n",
      "Number of features extracted per sensor:  779.0\n",
      "Extracted Feature set shape with class labels:  (88, 4675)\n"
     ]
    }
   ],
   "source": [
    "print('Extracted Feature set shape: ', X.shape)\n",
    "print('Number of features extracted per sensor: ', X.shape[1]/6)\n",
    "X = X.reset_index(drop = True)\n",
    "X['class'] = y[::15].reset_index(drop = True)\n",
    "print('Extracted Feature set shape with class labels: ', X.shape)"
   ]
  },
  {
   "cell_type": "code",
   "execution_count": 15,
   "metadata": {},
   "outputs": [
    {
     "data": {
      "text/html": [
       "<div>\n",
       "<style scoped>\n",
       "    .dataframe tbody tr th:only-of-type {\n",
       "        vertical-align: middle;\n",
       "    }\n",
       "\n",
       "    .dataframe tbody tr th {\n",
       "        vertical-align: top;\n",
       "    }\n",
       "\n",
       "    .dataframe thead th {\n",
       "        text-align: right;\n",
       "    }\n",
       "</style>\n",
       "<table border=\"1\" class=\"dataframe\">\n",
       "  <thead>\n",
       "    <tr style=\"text-align: right;\">\n",
       "      <th></th>\n",
       "      <th>var4__variance_larger_than_standard_deviation</th>\n",
       "      <th>var4__has_duplicate_max</th>\n",
       "      <th>var4__has_duplicate_min</th>\n",
       "      <th>var4__has_duplicate</th>\n",
       "      <th>var4__sum_values</th>\n",
       "      <th>var4__abs_energy</th>\n",
       "      <th>var4__mean_abs_change</th>\n",
       "      <th>var4__mean_change</th>\n",
       "      <th>var4__mean_second_derivative_central</th>\n",
       "      <th>var4__median</th>\n",
       "      <th>...</th>\n",
       "      <th>var3__fourier_entropy__bins_3</th>\n",
       "      <th>var3__fourier_entropy__bins_5</th>\n",
       "      <th>var3__fourier_entropy__bins_10</th>\n",
       "      <th>var3__fourier_entropy__bins_100</th>\n",
       "      <th>var3__permutation_entropy__dimension_3__tau_1</th>\n",
       "      <th>var3__permutation_entropy__dimension_4__tau_1</th>\n",
       "      <th>var3__permutation_entropy__dimension_5__tau_1</th>\n",
       "      <th>var3__permutation_entropy__dimension_6__tau_1</th>\n",
       "      <th>var3__permutation_entropy__dimension_7__tau_1</th>\n",
       "      <th>class</th>\n",
       "    </tr>\n",
       "  </thead>\n",
       "  <tbody>\n",
       "  </tbody>\n",
       "</table>\n",
       "<p>0 rows × 4675 columns</p>\n",
       "</div>"
      ],
      "text/plain": [
       "Empty DataFrame\n",
       "Columns: [var4__variance_larger_than_standard_deviation, var4__has_duplicate_max, var4__has_duplicate_min, var4__has_duplicate, var4__sum_values, var4__abs_energy, var4__mean_abs_change, var4__mean_change, var4__mean_second_derivative_central, var4__median, var4__mean, var4__length, var4__standard_deviation, var4__variation_coefficient, var4__variance, var4__skewness, var4__kurtosis, var4__absolute_sum_of_changes, var4__longest_strike_below_mean, var4__longest_strike_above_mean, var4__count_above_mean, var4__count_below_mean, var4__last_location_of_maximum, var4__first_location_of_maximum, var4__last_location_of_minimum, var4__first_location_of_minimum, var4__percentage_of_reoccurring_values_to_all_values, var4__percentage_of_reoccurring_datapoints_to_all_datapoints, var4__sum_of_reoccurring_values, var4__sum_of_reoccurring_data_points, var4__ratio_value_number_to_time_series_length, var4__sample_entropy, var4__maximum, var4__minimum, var4__benford_correlation, var4__time_reversal_asymmetry_statistic__lag_1, var4__time_reversal_asymmetry_statistic__lag_2, var4__time_reversal_asymmetry_statistic__lag_3, var4__c3__lag_1, var4__c3__lag_2, var4__c3__lag_3, var4__cid_ce__normalize_True, var4__cid_ce__normalize_False, var4__symmetry_looking__r_0.0, var4__symmetry_looking__r_0.05, var4__symmetry_looking__r_0.1, var4__symmetry_looking__r_0.15000000000000002, var4__symmetry_looking__r_0.2, var4__symmetry_looking__r_0.25, var4__symmetry_looking__r_0.30000000000000004, var4__symmetry_looking__r_0.35000000000000003, var4__symmetry_looking__r_0.4, var4__symmetry_looking__r_0.45, var4__symmetry_looking__r_0.5, var4__symmetry_looking__r_0.55, var4__symmetry_looking__r_0.6000000000000001, var4__symmetry_looking__r_0.65, var4__symmetry_looking__r_0.7000000000000001, var4__symmetry_looking__r_0.75, var4__symmetry_looking__r_0.8, var4__symmetry_looking__r_0.8500000000000001, var4__symmetry_looking__r_0.9, var4__symmetry_looking__r_0.9500000000000001, var4__large_standard_deviation__r_0.05, var4__large_standard_deviation__r_0.1, var4__large_standard_deviation__r_0.15000000000000002, var4__large_standard_deviation__r_0.2, var4__large_standard_deviation__r_0.25, var4__large_standard_deviation__r_0.30000000000000004, var4__large_standard_deviation__r_0.35000000000000003, var4__large_standard_deviation__r_0.4, var4__large_standard_deviation__r_0.45, var4__large_standard_deviation__r_0.5, var4__large_standard_deviation__r_0.55, var4__large_standard_deviation__r_0.6000000000000001, var4__large_standard_deviation__r_0.65, var4__large_standard_deviation__r_0.7000000000000001, var4__large_standard_deviation__r_0.75, var4__large_standard_deviation__r_0.8, var4__large_standard_deviation__r_0.8500000000000001, var4__large_standard_deviation__r_0.9, var4__large_standard_deviation__r_0.9500000000000001, var4__quantile__q_0.1, var4__quantile__q_0.2, var4__quantile__q_0.3, var4__quantile__q_0.4, var4__quantile__q_0.6, var4__quantile__q_0.7, var4__quantile__q_0.8, var4__quantile__q_0.9, var4__autocorrelation__lag_0, var4__autocorrelation__lag_1, var4__autocorrelation__lag_2, var4__autocorrelation__lag_3, var4__autocorrelation__lag_4, var4__autocorrelation__lag_5, var4__autocorrelation__lag_6, var4__autocorrelation__lag_7, var4__autocorrelation__lag_8, var4__autocorrelation__lag_9, ...]\n",
       "Index: []\n",
       "\n",
       "[0 rows x 4675 columns]"
      ]
     },
     "execution_count": 15,
     "metadata": {},
     "output_type": "execute_result"
    }
   ],
   "source": [
    "#check for nan\n",
    "is_NaN = X.isnull()\n",
    "row_has_NaN = is_NaN.any(axis=1)\n",
    "rows_with_NaN = X[row_has_NaN]\n",
    "\n",
    "rows_with_NaN"
   ]
  },
  {
   "cell_type": "code",
   "execution_count": 16,
   "metadata": {},
   "outputs": [],
   "source": [
    "X.to_csv(r'C:\\Users\\seren\\Documents\\oct\\tsfresh_multi.csv', index = False)"
   ]
  }
 ],
 "metadata": {
  "kernelspec": {
   "display_name": "Python 3",
   "language": "python",
   "name": "python3"
  },
  "language_info": {
   "codemirror_mode": {
    "name": "ipython",
    "version": 3
   },
   "file_extension": ".py",
   "mimetype": "text/x-python",
   "name": "python",
   "nbconvert_exporter": "python",
   "pygments_lexer": "ipython3",
   "version": "3.7.4"
  }
 },
 "nbformat": 4,
 "nbformat_minor": 1
}
